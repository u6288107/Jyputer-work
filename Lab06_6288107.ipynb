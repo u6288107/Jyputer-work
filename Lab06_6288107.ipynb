{
 "cells": [
  {
   "cell_type": "markdown",
   "metadata": {},
   "source": [
    "# EXERCISE 1"
   ]
  },
  {
   "cell_type": "code",
   "execution_count": 14,
   "metadata": {},
   "outputs": [],
   "source": [
    "import numpy as np\n",
    "import scipy\n",
    "from scipy . cluster .vq import kmeans ,vq , whiten\n",
    "# Score of 20 students in on subjects\n",
    "student_scores = [[80] , [78] , [55] , [60] , [62] ,\n",
    "                  [59] , [48] , [49] , [51] , [54] ,\n",
    "                  [72] , [95] , [78] , [54] , [50] ,\n",
    "                  [61] , [57] , [56] , [65] , [53]];"
   ]
  },
  {
   "cell_type": "markdown",
   "metadata": {},
   "source": [
    "# EXERCISE 2"
   ]
  },
  {
   "cell_type": "code",
   "execution_count": 15,
   "metadata": {},
   "outputs": [],
   "source": [
    "student_scores = whiten(student_scores)\n",
    "centroids ,_ = kmeans(student_scores,2)"
   ]
  },
  {
   "cell_type": "markdown",
   "metadata": {},
   "source": [
    "# EXERCISE 3"
   ]
  },
  {
   "cell_type": "code",
   "execution_count": 16,
   "metadata": {},
   "outputs": [
    {
     "name": "stdout",
     "output_type": "stream",
     "text": [
      "[1 1 0 0 0 0 0 0 0 0 1 1 1 0 0 0 0 0 0 0]\n"
     ]
    }
   ],
   "source": [
    "result ,_ = vq(student_scores,centroids)\n",
    "print(result)"
   ]
  },
  {
   "cell_type": "markdown",
   "metadata": {},
   "source": [
    "Assigns a code from a code book to each observation. Each observation vector in the ‘M’ by ‘N’ obs array is compared with the centroids in the code book and assigned the code of the closest centroid."
   ]
  },
  {
   "cell_type": "markdown",
   "metadata": {},
   "source": [
    "# EXERCISE 4"
   ]
  },
  {
   "cell_type": "code",
   "execution_count": 17,
   "metadata": {},
   "outputs": [
    {
     "name": "stdout",
     "output_type": "stream",
     "text": [
      "[2 2 1 3 3 3 1 1 1 1 2 0 2 1 1 3 3 3 3 1]\n"
     ]
    }
   ],
   "source": [
    "import numpy as np\n",
    "import scipy\n",
    "from scipy . cluster .vq import kmeans ,vq , whiten\n",
    "# Score of 20 students in on subjects\n",
    "student_scores = [[80] , [78] , [55] , [60] , [62] ,\n",
    "                  [59] , [48] , [49] , [51] , [54] ,\n",
    "                  [72] , [95] , [78] , [54] , [50] ,\n",
    "                  [61] , [57] , [56] , [65] , [53]];\n",
    "student_scores = whiten(student_scores)\n",
    "centroids ,_ = kmeans(student_scores,4)\n",
    "result ,_ = vq(student_scores,centroids)\n",
    "print(result)"
   ]
  },
  {
   "cell_type": "markdown",
   "metadata": {},
   "source": [
    "# EXERCISE 5"
   ]
  },
  {
   "cell_type": "code",
   "execution_count": 18,
   "metadata": {},
   "outputs": [
    {
     "name": "stdout",
     "output_type": "stream",
     "text": [
      "[2 2 0 0 1 0 3 1 1 0 2 2 2 3 1 0 0 1 0 3]\n"
     ]
    }
   ],
   "source": [
    "import numpy as np\n",
    "import scipy\n",
    "from scipy . cluster .vq import kmeans ,vq , whiten\n",
    "# Score of 20 students in on subjects\n",
    "student_scores =[[80 , 72] , [78 , 56] , [55 , 64] , [60 , 61] , [62 , 45] ,\n",
    "[59 , 71] , [48 , 85] , [49 , 45] , [51 , 55] , [54 , 62] ,\n",
    "[72 , 81] , [95 , 81] , [78 , 92] , [54 , 80] , [50 , 50] ,\n",
    "[61 , 65] , [57 , 62] , [56 , 55] , [65 , 63] , [53 , 72]];\n",
    "student_scores = whiten(student_scores)\n",
    "centroids ,_ = kmeans(student_scores,4)\n",
    "result ,_ = vq(student_scores,centroids)\n",
    "print(result)"
   ]
  },
  {
   "cell_type": "markdown",
   "metadata": {},
   "source": [
    "# EXERCISE 6"
   ]
  },
  {
   "cell_type": "code",
   "execution_count": 19,
   "metadata": {},
   "outputs": [
    {
     "name": "stdout",
     "output_type": "stream",
     "text": [
      "The PI is 3.1415926535897931\n",
      "The speed of light is c = 299792458.0\n",
      "The newton ’s gravity constant is G = 9.8\n"
     ]
    }
   ],
   "source": [
    "import scipy.constants\n",
    "print (\"The PI is %.16f\"%scipy.constants.pi)\n",
    "print (\"The speed of light is c = %.1F\"%scipy.constants.c)\n",
    "print (\"The newton ’s gravity constant is G = %.1F\"%scipy.constants.g)"
   ]
  },
  {
   "cell_type": "markdown",
   "metadata": {},
   "source": [
    "# EXERCISE 7"
   ]
  },
  {
   "cell_type": "code",
   "execution_count": 20,
   "metadata": {},
   "outputs": [
    {
     "data": {
      "text/plain": [
       "['atomic mass unit-kilogram relationship',\n",
       " 'electron volt-kilogram relationship',\n",
       " 'hartree-kilogram relationship',\n",
       " 'hertz-kilogram relationship',\n",
       " 'inverse meter-kilogram relationship',\n",
       " 'joule-kilogram relationship',\n",
       " 'kelvin-kilogram relationship',\n",
       " 'kilogram-atomic mass unit relationship',\n",
       " 'kilogram-electron volt relationship',\n",
       " 'kilogram-hartree relationship',\n",
       " 'kilogram-hertz relationship',\n",
       " 'kilogram-inverse meter relationship',\n",
       " 'kilogram-joule relationship',\n",
       " 'kilogram-kelvin relationship']"
      ]
     },
     "execution_count": 20,
     "metadata": {},
     "output_type": "execute_result"
    }
   ],
   "source": [
    "scipy.constants.find(\"gram\")"
   ]
  },
  {
   "cell_type": "markdown",
   "metadata": {},
   "source": [
    ".find is find the word \"gram\" in the word."
   ]
  },
  {
   "cell_type": "markdown",
   "metadata": {},
   "source": [
    "# EXERCISE 8"
   ]
  },
  {
   "cell_type": "code",
   "execution_count": 21,
   "metadata": {},
   "outputs": [
    {
     "name": "stdout",
     "output_type": "stream",
     "text": [
      "(1.6605390666e-27, 'kg', 5e-37)\n"
     ]
    }
   ],
   "source": [
    "print(scipy.constants.physical_constants[\"atomic mass unit-kilogram relationship\"])"
   ]
  },
  {
   "cell_type": "markdown",
   "metadata": {},
   "source": [
    "# EXERCISE 9"
   ]
  },
  {
   "cell_type": "code",
   "execution_count": 22,
   "metadata": {},
   "outputs": [
    {
     "name": "stdout",
     "output_type": "stream",
     "text": [
      "4.763402447305133e+18\n"
     ]
    }
   ],
   "source": [
    "m = 53 \n",
    "e = m * (scipy.constants.c)**2\n",
    "print(e)"
   ]
  },
  {
   "cell_type": "markdown",
   "metadata": {},
   "source": [
    "# EXERCISE 10"
   ]
  },
  {
   "cell_type": "code",
   "execution_count": 23,
   "metadata": {},
   "outputs": [
    {
     "name": "stdout",
     "output_type": "stream",
     "text": [
      "15 21 18.0 4.0\n"
     ]
    }
   ],
   "source": [
    "import scipy.stats as stats\n",
    "import numpy as np\n",
    "x = np.array([19 ,18 ,21 ,16 ,15 ,17 ,20 ,18]);\n",
    "print(stats.tmin(x),stats.tmax(x),stats.tmean(x),stats.tvar(x));"
   ]
  },
  {
   "cell_type": "markdown",
   "metadata": {},
   "source": [
    "# EXERCISE 11"
   ]
  },
  {
   "cell_type": "code",
   "execution_count": 24,
   "metadata": {},
   "outputs": [
    {
     "name": "stdout",
     "output_type": "stream",
     "text": [
      "DescribeResult(nobs=8, minmax=(15, 21), mean=18.0, variance=4.0, skewness=0.0, kurtosis=-1.0)\n"
     ]
    }
   ],
   "source": [
    "print(stats.describe(x)) ;"
   ]
  },
  {
   "cell_type": "markdown",
   "metadata": {},
   "source": [
    "stats.describe() describes number of observation, min and max, variance, skewness and kurtosis."
   ]
  },
  {
   "cell_type": "markdown",
   "metadata": {},
   "source": [
    "# EXERCISE 12"
   ]
  },
  {
   "cell_type": "code",
   "execution_count": 25,
   "metadata": {},
   "outputs": [
    {
     "name": "stdout",
     "output_type": "stream",
     "text": [
      "61.85\n",
      "[12.55838994]\n",
      "[0.01194421]\n"
     ]
    }
   ],
   "source": [
    "import scipy.stats as stats\n",
    "import numpy as np\n",
    "student_scores = [[80] , [78] , [55] , [60] , [62] ,\n",
    "[59] , [48] , [49] , [51] , [54] ,\n",
    "[72] , [95] , [78] , [54] , [50] ,\n",
    "[61] , [57] , [56] , [65] , [53]];\n",
    "print(stats.tmean(student_scores))\n",
    "print(stats.tstd(student_scores))\n",
    "print((62-stats.tmean(student_scores))/stats.tstd(student_scores))"
   ]
  },
  {
   "cell_type": "markdown",
   "metadata": {},
   "source": [
    "# EXERCISE 13"
   ]
  },
  {
   "cell_type": "code",
   "execution_count": 26,
   "metadata": {},
   "outputs": [
    {
     "name": "stdout",
     "output_type": "stream",
     "text": [
      "[1.44524896]\n",
      "[1.28599288]\n",
      "[-0.54545209]\n",
      "[-0.14731188]\n",
      "[0.01194421]\n",
      "[-0.22693992]\n",
      "[-1.10284838]\n",
      "[-1.02322034]\n",
      "[-0.86396425]\n",
      "[-0.62508013]\n",
      "[0.80822462]\n",
      "[2.63966959]\n",
      "[1.28599288]\n",
      "[-0.62508013]\n",
      "[-0.9435923]\n",
      "[-0.06768384]\n",
      "[-0.386196]\n",
      "[-0.46582404]\n",
      "[0.25082833]\n",
      "[-0.70470817]\n"
     ]
    }
   ],
   "source": [
    "for i in student_scores:\n",
    "    print((i-stats.tmean(student_scores))/stats.tstd(student_scores))"
   ]
  }
 ],
 "metadata": {
  "kernelspec": {
   "display_name": "Python 3",
   "language": "python",
   "name": "python3"
  },
  "language_info": {
   "codemirror_mode": {
    "name": "ipython",
    "version": 3
   },
   "file_extension": ".py",
   "mimetype": "text/x-python",
   "name": "python",
   "nbconvert_exporter": "python",
   "pygments_lexer": "ipython3",
   "version": "3.8.3"
  }
 },
 "nbformat": 4,
 "nbformat_minor": 4
}
