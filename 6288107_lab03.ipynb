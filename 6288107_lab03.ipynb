{
 "cells": [
  {
   "cell_type": "code",
   "execution_count": 1,
   "metadata": {},
   "outputs": [
    {
     "name": "stdout",
     "output_type": "stream",
     "text": [
      "-2\n",
      "2.5\n",
      "2\n",
      "-3\n",
      "10\n",
      "25\n"
     ]
    }
   ],
   "source": [
    "#Exercise 1\n",
    "x=2\n",
    "y=5\n",
    "print(-x) # -x is negative number\n",
    "print(y/x) # y/x is divided y by x \n",
    "print(y//x) # y//x is Floor division \n",
    "print(-y//x) # -y//x is Floor division \n",
    "print(y*x) # y*x is multiply y by x\n",
    "print(y**x) # y**x is raise power y by x"
   ]
  },
  {
   "cell_type": "code",
   "execution_count": 4,
   "metadata": {},
   "outputs": [
    {
     "data": {
      "text/plain": [
       "True"
      ]
     },
     "execution_count": 4,
     "metadata": {},
     "output_type": "execute_result"
    }
   ],
   "source": [
    "#Exercise 2.1\n",
    "-2 > 5 # false\n",
    "2.35 >= 23.5 # false\n",
    "7.45 != 5.0 # true\n",
    "\"ict\" < \"computer science\" # false\n",
    "\"chair\" == \"Chair\" # false\n",
    "\"net\" < \"network\" # true\n",
    "\"Same\" != \"Same\" # false"
   ]
  },
  {
   "cell_type": "code",
   "execution_count": 20,
   "metadata": {},
   "outputs": [
    {
     "data": {
      "text/plain": [
       "True"
      ]
     },
     "execution_count": 20,
     "metadata": {},
     "output_type": "execute_result"
    }
   ],
   "source": [
    "#Exercise 2.2\n",
    "var = 4.0\n",
    "var == 4 # 4 = 4, it is true."
   ]
  },
  {
   "cell_type": "code",
   "execution_count": 19,
   "metadata": {},
   "outputs": [
    {
     "data": {
      "text/plain": [
       "(2, True, 2)"
      ]
     },
     "execution_count": 19,
     "metadata": {},
     "output_type": "execute_result"
    }
   ],
   "source": [
    "#Exercise 2.3\n",
    "var1 = 2; var2 =1;\n",
    "var1,var2 == var2,var1"
   ]
  },
  {
   "cell_type": "code",
   "execution_count": 21,
   "metadata": {},
   "outputs": [
    {
     "name": "stdout",
     "output_type": "stream",
     "text": [
      "True\n",
      "False\n",
      "True\n"
     ]
    }
   ],
   "source": [
    "#Exercise 3\n",
    "print(\"a\" < \"c\" and 2 < 4) # true and true, it is true.\n",
    "print(not 2 < 4)# not true, it is false.\n",
    "print(\"a\" < \"c\" or 4 < 2)# true or flase, it is true."
   ]
  },
  {
   "cell_type": "code",
   "execution_count": 25,
   "metadata": {},
   "outputs": [
    {
     "name": "stdout",
     "output_type": "stream",
     "text": [
      "Please enter the signal(red, yellow, green): green\n",
      "GO!!!\n"
     ]
    }
   ],
   "source": [
    "#Exercise 4\n",
    "signal = input(\"Please enter the signal(red, yellow, green): \")\n",
    "if signal == \"red\" :\n",
    "   print(\"STOP!!\") # If I input red, it show \"STOP!!\".\n",
    "elif signal == \"green\" :\n",
    "   print(\"GO!!!\") # If I input green, it show \"GO!!!\".\n",
    "else:\n",
    "   print(\"Be careful...\"); # If I input yellow, it show \"Be careful...\"."
   ]
  },
  {
   "cell_type": "code",
   "execution_count": 27,
   "metadata": {},
   "outputs": [
    {
     "name": "stdout",
     "output_type": "stream",
     "text": [
      "How many Km??: 20\n",
      "20.0 kilometers is equal to 12.42742 miles\n"
     ]
    }
   ],
   "source": [
    "#Exercise 5\n",
    "km = float(input(\"How many Km??: \"))\n",
    "convert = 0.621371 # 1 km = 0.621371 mile.\n",
    "mile = km * convert\n",
    "print(km,\"kilometers is equal to\", mile,\"miles\")"
   ]
  },
  {
   "cell_type": "code",
   "execution_count": 28,
   "metadata": {},
   "outputs": [
    {
     "name": "stdout",
     "output_type": "stream",
     "text": [
      "Enter number of loop: 5\n",
      "5\n",
      "4\n",
      "3\n",
      "2\n",
      "1\n"
     ]
    }
   ],
   "source": [
    "#Exercise 6\n",
    "number = int(input(\"Enter number of loop: \"))\n",
    "while number > 0:\n",
    "   print(number)\n",
    "   number=number-1\n",
    "#The loop works when you enter a number, it will display the value of the number continuously, with the subsequent value decresing by 1, then if the number value is 1, it will stop. "
   ]
  },
  {
   "cell_type": "code",
   "execution_count": 31,
   "metadata": {},
   "outputs": [
    {
     "name": "stdout",
     "output_type": "stream",
     "text": [
      "Number: 3\n",
      "Number: 0\n",
      "Number: 0\n",
      "Number: -1\n",
      "1.0\n"
     ]
    }
   ],
   "source": [
    "#Exercise 7\n",
    "counter=0\n",
    "total=0\n",
    "number=0\n",
    "number = int(input(\"Number: \"))\n",
    "while number >= 0: # If I input negative number, it outs in loop.\n",
    "  total += number # a sum of number that I input.\n",
    "  counter +=1 # a count of number that I input.\n",
    "  number = int(input(\"Number: \"))\n",
    "avg = total/counter\n",
    "print(avg) # print answer"
   ]
  },
  {
   "cell_type": "code",
   "execution_count": 32,
   "metadata": {},
   "outputs": [
    {
     "name": "stdout",
     "output_type": "stream",
     "text": [
      "0\n",
      "1\n",
      "2\n",
      "2\n",
      "3\n",
      "4\n",
      "5\n",
      "3\n",
      "7\n"
     ]
    }
   ],
   "source": [
    "#Exercise 8\n",
    "for x in range(3): # range is 0-2\n",
    "  print(x)\n",
    "for x in range(2, 6): # range is 2-5\n",
    "  print(x)\n",
    "for x in range(3, 8, 4): # range is 3 and 7\n",
    "  print(x)"
   ]
  },
  {
   "cell_type": "code",
   "execution_count": 33,
   "metadata": {},
   "outputs": [
    {
     "name": "stdout",
     "output_type": "stream",
     "text": [
      "1\n",
      "2\n",
      "3\n",
      "1\n",
      "2\n",
      "3\n"
     ]
    }
   ],
   "source": [
    "#Exercise 9.1\n",
    "a = (1,2,3)\n",
    "b = [1,2,3]\n",
    "for x in a: \n",
    " print(x) # print 1 2 3\n",
    "for x in b:\n",
    " print(x) # print 1 2 3"
   ]
  },
  {
   "cell_type": "code",
   "execution_count": 34,
   "metadata": {},
   "outputs": [
    {
     "ename": "TypeError",
     "evalue": "'tuple' object does not support item assignment",
     "output_type": "error",
     "traceback": [
      "\u001b[1;31m---------------------------------------------------------------------------\u001b[0m",
      "\u001b[1;31mTypeError\u001b[0m                                 Traceback (most recent call last)",
      "\u001b[1;32m<ipython-input-34-1135093ad7ba>\u001b[0m in \u001b[0;36m<module>\u001b[1;34m\u001b[0m\n\u001b[1;32m----> 1\u001b[1;33m \u001b[0ma\u001b[0m\u001b[1;33m[\u001b[0m\u001b[1;36m0\u001b[0m\u001b[1;33m]\u001b[0m \u001b[1;33m=\u001b[0m \u001b[1;36m2\u001b[0m\u001b[1;33m\u001b[0m\u001b[1;33m\u001b[0m\u001b[0m\n\u001b[0m\u001b[0;32m      2\u001b[0m \u001b[1;32mfor\u001b[0m \u001b[0mx\u001b[0m \u001b[1;32min\u001b[0m \u001b[0ma\u001b[0m\u001b[1;33m:\u001b[0m\u001b[1;33m\u001b[0m\u001b[1;33m\u001b[0m\u001b[0m\n\u001b[0;32m      3\u001b[0m  \u001b[0mprint\u001b[0m\u001b[1;33m(\u001b[0m\u001b[0mx\u001b[0m\u001b[1;33m)\u001b[0m\u001b[1;33m\u001b[0m\u001b[1;33m\u001b[0m\u001b[0m\n",
      "\u001b[1;31mTypeError\u001b[0m: 'tuple' object does not support item assignment"
     ]
    }
   ],
   "source": [
    "# Exercise 9.2 \n",
    "a[0] = 2\n",
    "for x in a:\n",
    " print(x)"
   ]
  },
  {
   "cell_type": "code",
   "execution_count": 35,
   "metadata": {},
   "outputs": [
    {
     "name": "stdout",
     "output_type": "stream",
     "text": [
      "2\n",
      "2\n",
      "3\n"
     ]
    }
   ],
   "source": [
    "# Exercise 9.2 \n",
    "b[0] = 2\n",
    "for x in b:\n",
    " print(x)"
   ]
  },
  {
   "cell_type": "code",
   "execution_count": 5,
   "metadata": {},
   "outputs": [
    {
     "name": "stdout",
     "output_type": "stream",
     "text": [
      "2.0\n",
      "2.5937424601000023\n",
      "2.7048138294215285\n",
      "2.7169239322355936\n"
     ]
    }
   ],
   "source": [
    "# Exercise 10 \n",
    "import math\n",
    "print((1+1/1)**1) # print (1+1/n)**n that n is 1\n",
    "print((1+1/10)**10) # print (1+1/n)**n that n is 10\n",
    "print((1+1/100)**100) # print (1+1/n)**n that n is 100\n",
    "print((1+1/1000)**1000) # print (1+1/n)**n that n is 1000"
   ]
  },
  {
   "cell_type": "code",
   "execution_count": 48,
   "metadata": {},
   "outputs": [
    {
     "name": "stdout",
     "output_type": "stream",
     "text": [
      "0\n",
      "10\n",
      "200\n",
      "2999\n"
     ]
    }
   ],
   "source": [
    "#Exercise 11\n",
    "import math\n",
    "print(math.floor(1*math.log(1,10))) # print nlogn that n is 1\n",
    "print(math.floor(10*math.log(10,10))) # print nlogn that n is 10\n",
    "print(math.floor(100*math.log(100,10))) # print nlogn that n is 100\n",
    "print(math.floor(1000*math.log(1000,10))) # print nlogn that n is 1000"
   ]
  },
  {
   "cell_type": "code",
   "execution_count": 49,
   "metadata": {},
   "outputs": [
    {
     "name": "stdout",
     "output_type": "stream",
     "text": [
      "2.4489795918367347\n"
     ]
    }
   ],
   "source": [
    "#Exercise 12\n",
    "u = 0\n",
    "s = 120\n",
    "t = 7\n",
    "v = s/t\n",
    "print((v-u)/t) # a = (v-u)/t"
   ]
  },
  {
   "cell_type": "code",
   "execution_count": 59,
   "metadata": {},
   "outputs": [
    {
     "name": "stdout",
     "output_type": "stream",
     "text": [
      "0.5\n",
      "0.5\n",
      "16331239353195370.0\n"
     ]
    }
   ],
   "source": [
    "#Exercise 13\n",
    "import math\n",
    "print(\"%.1f\" % math.sin(math.radians(30))) # sin 30 degree is 1/2 or 0.5\n",
    "print(\"%.1f\" % math.cos(math.radians(60))) # cos 60 degree is 1/2 or 0.5\n",
    "print(\"%.1f\" % math.tan(math.radians(90))) # tan 90 degree is 1.6331239e+16"
   ]
  },
  {
   "cell_type": "code",
   "execution_count": 62,
   "metadata": {},
   "outputs": [
    {
     "data": {
      "image/png": "[encoded data removed]",
      "text/plain": [
       "<Figure size 432x288 with 1 Axes>"
      ]
     },
     "metadata": {
      "needs_background": "light"
     },
     "output_type": "display_data"
    }
   ],
   "source": [
    "# Exercise 14\n",
    "import numpy as np\n",
    "import matplotlib.pyplot as plt\n",
    "#initialize variables\n",
    "#velocity, gravity\n",
    "v = 30\n",
    "g = 9.81\n",
    "theta = np.radians(53) #convert to radians,\n",
    "tmax = (2*v*math.sin(theta))/g # find tmax\n",
    "timemat = tmax*np.linspace(0,1,100)\n",
    "plt.figure()\n",
    "x = ((v * timemat) * np.cos(theta))\n",
    "y = ((v * timemat) * np.sin(theta)) - ((0.5 * g) * (timemat ** 2))\n",
    "plt.plot(x,y) #plot each dataset: columns of x and columns of y\n",
    "plt.ylim([0,35])\n",
    "\n",
    "plt.show()"
   ]
  },
  {
   "cell_type": "code",
   "execution_count": 63,
   "metadata": {},
   "outputs": [
    {
     "name": "stdout",
     "output_type": "stream",
     "text": [
      "312.85006151411903 1.628206952186122\n"
     ]
    }
   ],
   "source": [
    "#Exercise 15\n",
    "import math\n",
    "v = 10\n",
    "g = 9.81\n",
    "theta = math.radians(53) # convert to radians\n",
    "hmax = ((v**2)*(math.sin(theta)**2)/2*g) # find hmax\n",
    "ttotal = (2*v*math.sin(theta))/g # find ttotal\n",
    "print(hmax,ttotal)"
   ]
  },
  {
   "cell_type": "code",
   "execution_count": null,
   "metadata": {},
   "outputs": [],
   "source": []
  }
 ],
 "metadata": {
  "kernelspec": {
   "display_name": "Python 3",
   "language": "python",
   "name": "python3"
  },
  "language_info": {
   "codemirror_mode": {
    "name": "ipython",
    "version": 3
   },
   "file_extension": ".py",
   "mimetype": "text/x-python",
   "name": "python",
   "nbconvert_exporter": "python",
   "pygments_lexer": "ipython3",
   "version": "3.8.3"
  }
 },
 "nbformat": 4,
 "nbformat_minor": 4
}
