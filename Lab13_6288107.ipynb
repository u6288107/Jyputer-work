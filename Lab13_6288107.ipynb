{
 "cells": [
  {
   "cell_type": "code",
   "execution_count": 1,
   "metadata": {},
   "outputs": [],
   "source": [
    "#jupyter notebook"
   ]
  },
  {
   "cell_type": "code",
   "execution_count": 2,
   "metadata": {},
   "outputs": [
    {
     "name": "stdout",
     "output_type": "stream",
     "text": [
      "showing info https://raw.githubusercontent.com/nltk/nltk_data/gh-pages/index.xml\n"
     ]
    },
    {
     "data": {
      "text/plain": [
       "True"
      ]
     },
     "execution_count": 2,
     "metadata": {},
     "output_type": "execute_result"
    }
   ],
   "source": [
    "import nltk\n",
    "nltk.download()"
   ]
  },
  {
   "cell_type": "code",
   "execution_count": 3,
   "metadata": {},
   "outputs": [
    {
     "name": "stdout",
     "output_type": "stream",
     "text": [
      "['Dogs ,Canis lupus familiaris, are domesticated mammals,\\nnot natural wild animals.', 'They were originally bred from\\nwolves.', 'They have been bred by humans for a long time, and\\nwere the first animals ever to be domesticated.', 'Today, some dogs are used as pets, others are used to help\\nhumans do their work.', 'They are a popular pet because they\\nare usually playful, friendly, loyal and listen to humans.', 'Thirty million dogs in the United States are registered as\\npets.', 'Dogs eat both meat and vegetables, often mixed\\ntogether and sold in stores as dog food.', 'Dogs often have\\njobs, including as police dogs, army dogs, assistance dogs,\\nfire dogs, messenger dogs, hunting dogs, herding dogs, or\\nrescue dogs.', 'They are sometimes called \"canines\" from the Latin word for dog\\n- canis.', 'Sometimes people also use \"dog\" to describe other\\ncanids, such as wolves.', 'A baby dog is called a pup or puppy.', 'A dog is called a puppy until it is about one year old.', 'Dogs are sometimes referred to as \"man’s best friend\" because\\nthey are kept as domestic pets and are usually loyal and\\nlike being around humans.']\n"
     ]
    }
   ],
   "source": [
    "from nltk.tokenize import sent_tokenize\n",
    "text=\"\"\"Dogs ,Canis lupus familiaris, are domesticated mammals,\n",
    "not natural wild animals. They were originally bred from\n",
    "wolves. They have been bred by humans for a long time, and\n",
    "were the first animals ever to be domesticated.\n",
    "\n",
    "\n",
    "Today, some dogs are used as pets, others are used to help\n",
    "humans do their work. They are a popular pet because they\n",
    "are usually playful, friendly, loyal and listen to humans.\n",
    "Thirty million dogs in the United States are registered as\n",
    "pets. Dogs eat both meat and vegetables, often mixed\n",
    "together and sold in stores as dog food. Dogs often have\n",
    "jobs, including as police dogs, army dogs, assistance dogs,\n",
    "fire dogs, messenger dogs, hunting dogs, herding dogs, or\n",
    "rescue dogs.\n",
    "\n",
    "\n",
    "They are sometimes called \"canines\" from the Latin word for dog\n",
    "- canis. Sometimes people also use \"dog\" to describe other\n",
    "canids, such as wolves. A baby dog is called a pup or puppy.\n",
    "A dog is called a puppy until it is about one year old.\n",
    "Dogs are sometimes referred to as \"man’s best friend\" because\n",
    "they are kept as domestic pets and are usually loyal and\n",
    "like being around humans.\"\"\"\n",
    "\n",
    "\n",
    "tokenized_text=sent_tokenize(text)\n",
    "print(tokenized_text)"
   ]
  },
  {
   "cell_type": "markdown",
   "metadata": {},
   "source": [
    "How many sentences in the paragraph?"
   ]
  },
  {
   "cell_type": "code",
   "execution_count": 4,
   "metadata": {},
   "outputs": [
    {
     "data": {
      "text/plain": [
       "13"
      ]
     },
     "execution_count": 4,
     "metadata": {},
     "output_type": "execute_result"
    }
   ],
   "source": [
    "len(tokenized_text)"
   ]
  },
  {
   "cell_type": "markdown",
   "metadata": {},
   "source": [
    "What is the third sentences in the paragraph?"
   ]
  },
  {
   "cell_type": "code",
   "execution_count": 5,
   "metadata": {},
   "outputs": [
    {
     "name": "stdout",
     "output_type": "stream",
     "text": [
      "They have been bred by humans for a long time, and\n",
      "were the first animals ever to be domesticated.\n"
     ]
    }
   ],
   "source": [
    "print(tokenized_text[2])"
   ]
  },
  {
   "cell_type": "code",
   "execution_count": 6,
   "metadata": {},
   "outputs": [
    {
     "name": "stdout",
     "output_type": "stream",
     "text": [
      "['Dogs', ',', 'Canis', 'lupus', 'familiaris', ',', 'are', 'domesticated', 'mammals', ',', 'not', 'natural', 'wild', 'animals', '.', 'They', 'were', 'originally', 'bred', 'from', 'wolves', '.', 'They', 'have', 'been', 'bred', 'by', 'humans', 'for', 'a', 'long', 'time', ',', 'and', 'were', 'the', 'first', 'animals', 'ever', 'to', 'be', 'domesticated', '.', 'Today', ',', 'some', 'dogs', 'are', 'used', 'as', 'pets', ',', 'others', 'are', 'used', 'to', 'help', 'humans', 'do', 'their', 'work', '.', 'They', 'are', 'a', 'popular', 'pet', 'because', 'they', 'are', 'usually', 'playful', ',', 'friendly', ',', 'loyal', 'and', 'listen', 'to', 'humans', '.', 'Thirty', 'million', 'dogs', 'in', 'the', 'United', 'States', 'are', 'registered', 'as', 'pets', '.', 'Dogs', 'eat', 'both', 'meat', 'and', 'vegetables', ',', 'often', 'mixed', 'together', 'and', 'sold', 'in', 'stores', 'as', 'dog', 'food', '.', 'Dogs', 'often', 'have', 'jobs', ',', 'including', 'as', 'police', 'dogs', ',', 'army', 'dogs', ',', 'assistance', 'dogs', ',', 'fire', 'dogs', ',', 'messenger', 'dogs', ',', 'hunting', 'dogs', ',', 'herding', 'dogs', ',', 'or', 'rescue', 'dogs', '.', 'They', 'are', 'sometimes', 'called', '``', 'canines', \"''\", 'from', 'the', 'Latin', 'word', 'for', 'dog', '-', 'canis', '.', 'Sometimes', 'people', 'also', 'use', '``', 'dog', \"''\", 'to', 'describe', 'other', 'canids', ',', 'such', 'as', 'wolves', '.', 'A', 'baby', 'dog', 'is', 'called', 'a', 'pup', 'or', 'puppy', '.', 'A', 'dog', 'is', 'called', 'a', 'puppy', 'until', 'it', 'is', 'about', 'one', 'year', 'old', '.', 'Dogs', 'are', 'sometimes', 'referred', 'to', 'as', '``', 'man', '’', 's', 'best', 'friend', \"''\", 'because', 'they', 'are', 'kept', 'as', 'domestic', 'pets', 'and', 'are', 'usually', 'loyal', 'and', 'like', 'being', 'around', 'humans', '.']\n"
     ]
    }
   ],
   "source": [
    "from nltk.tokenize import word_tokenize\n",
    "tokenized_word=word_tokenize(text)\n",
    "print(tokenized_word)"
   ]
  },
  {
   "cell_type": "markdown",
   "metadata": {},
   "source": [
    "How many words in the paragraph?"
   ]
  },
  {
   "cell_type": "code",
   "execution_count": 7,
   "metadata": {},
   "outputs": [
    {
     "data": {
      "text/plain": [
       "229"
      ]
     },
     "execution_count": 7,
     "metadata": {},
     "output_type": "execute_result"
    }
   ],
   "source": [
    "len(tokenized_word)"
   ]
  },
  {
   "cell_type": "markdown",
   "metadata": {},
   "source": [
    "How many words in the first sentence?"
   ]
  },
  {
   "cell_type": "code",
   "execution_count": 8,
   "metadata": {},
   "outputs": [
    {
     "data": {
      "text/plain": [
       "15"
      ]
     },
     "execution_count": 8,
     "metadata": {},
     "output_type": "execute_result"
    }
   ],
   "source": [
    "tokenized_first_sentence=word_tokenize(tokenized_text[0])\n",
    "len(tokenized_first_sentence)"
   ]
  },
  {
   "cell_type": "markdown",
   "metadata": {},
   "source": [
    "Do you find repeat words?"
   ]
  },
  {
   "cell_type": "code",
   "execution_count": 9,
   "metadata": {},
   "outputs": [
    {
     "name": "stdout",
     "output_type": "stream",
     "text": [
      "\"\"canines\"\" is repeated 1 time.\n",
      "\"\"dog\"\" is repeated 1 time.\n",
      "\"\"man’s\" is repeated 1 time.\n",
      "\",Canis\" is repeated 1 time.\n",
      "\"-\" is repeated 1 time.\n",
      "\"A\" is repeated 2 times.\n",
      "\"Dogs\" is repeated 4 times.\n",
      "\"Latin\" is repeated 1 time.\n",
      "\"Sometimes\" is repeated 1 time.\n",
      "\"States\" is repeated 1 time.\n",
      "\"They\" is repeated 4 times.\n",
      "\"Thirty\" is repeated 1 time.\n",
      "\"Today,\" is repeated 1 time.\n",
      "\"United\" is repeated 1 time.\n",
      "\"a\" is repeated 4 times.\n",
      "\"about\" is repeated 1 time.\n",
      "\"also\" is repeated 1 time.\n",
      "\"and\" is repeated 6 times.\n",
      "\"animals\" is repeated 1 time.\n",
      "\"animals.\" is repeated 1 time.\n",
      "\"are\" is repeated 10 times.\n",
      "\"army\" is repeated 1 time.\n",
      "\"around\" is repeated 1 time.\n",
      "\"as\" is repeated 7 times.\n",
      "\"assistance\" is repeated 1 time.\n",
      "\"baby\" is repeated 1 time.\n",
      "\"be\" is repeated 1 time.\n",
      "\"because\" is repeated 2 times.\n",
      "\"been\" is repeated 1 time.\n",
      "\"being\" is repeated 1 time.\n",
      "\"best\" is repeated 1 time.\n",
      "\"both\" is repeated 1 time.\n",
      "\"bred\" is repeated 2 times.\n",
      "\"by\" is repeated 1 time.\n",
      "\"called\" is repeated 3 times.\n",
      "\"canids,\" is repeated 1 time.\n",
      "\"canis.\" is repeated 1 time.\n",
      "\"describe\" is repeated 1 time.\n",
      "\"do\" is repeated 1 time.\n",
      "\"dog\" is repeated 4 times.\n",
      "\"dogs\" is repeated 2 times.\n",
      "\"dogs,\" is repeated 7 times.\n",
      "\"dogs.\" is repeated 1 time.\n",
      "\"domestic\" is repeated 1 time.\n",
      "\"domesticated\" is repeated 1 time.\n",
      "\"domesticated.\" is repeated 1 time.\n",
      "\"eat\" is repeated 1 time.\n",
      "\"ever\" is repeated 1 time.\n",
      "\"familiaris,\" is repeated 1 time.\n",
      "\"fire\" is repeated 1 time.\n",
      "\"first\" is repeated 1 time.\n",
      "\"food.\" is repeated 1 time.\n",
      "\"for\" is repeated 2 times.\n",
      "\"friend\"\" is repeated 1 time.\n",
      "\"friendly,\" is repeated 1 time.\n",
      "\"from\" is repeated 2 times.\n",
      "\"have\" is repeated 2 times.\n",
      "\"help\" is repeated 1 time.\n",
      "\"herding\" is repeated 1 time.\n",
      "\"humans\" is repeated 2 times.\n",
      "\"humans.\" is repeated 2 times.\n",
      "\"hunting\" is repeated 1 time.\n",
      "\"in\" is repeated 2 times.\n",
      "\"including\" is repeated 1 time.\n",
      "\"is\" is repeated 3 times.\n",
      "\"it\" is repeated 1 time.\n",
      "\"jobs,\" is repeated 1 time.\n",
      "\"kept\" is repeated 1 time.\n",
      "\"like\" is repeated 1 time.\n",
      "\"listen\" is repeated 1 time.\n",
      "\"long\" is repeated 1 time.\n",
      "\"loyal\" is repeated 2 times.\n",
      "\"lupus\" is repeated 1 time.\n",
      "\"mammals,\" is repeated 1 time.\n",
      "\"meat\" is repeated 1 time.\n",
      "\"messenger\" is repeated 1 time.\n",
      "\"million\" is repeated 1 time.\n",
      "\"mixed\" is repeated 1 time.\n",
      "\"natural\" is repeated 1 time.\n",
      "\"not\" is repeated 1 time.\n",
      "\"often\" is repeated 2 times.\n",
      "\"old.\" is repeated 1 time.\n",
      "\"one\" is repeated 1 time.\n",
      "\"or\" is repeated 2 times.\n",
      "\"originally\" is repeated 1 time.\n",
      "\"other\" is repeated 1 time.\n",
      "\"others\" is repeated 1 time.\n",
      "\"people\" is repeated 1 time.\n",
      "\"pet\" is repeated 1 time.\n",
      "\"pets\" is repeated 1 time.\n",
      "\"pets,\" is repeated 1 time.\n",
      "\"pets.\" is repeated 1 time.\n",
      "\"playful,\" is repeated 1 time.\n",
      "\"police\" is repeated 1 time.\n",
      "\"popular\" is repeated 1 time.\n",
      "\"pup\" is repeated 1 time.\n",
      "\"puppy\" is repeated 1 time.\n",
      "\"puppy.\" is repeated 1 time.\n",
      "\"referred\" is repeated 1 time.\n",
      "\"registered\" is repeated 1 time.\n",
      "\"rescue\" is repeated 1 time.\n",
      "\"sold\" is repeated 1 time.\n",
      "\"some\" is repeated 1 time.\n",
      "\"sometimes\" is repeated 2 times.\n",
      "\"stores\" is repeated 1 time.\n",
      "\"such\" is repeated 1 time.\n",
      "\"the\" is repeated 3 times.\n",
      "\"their\" is repeated 1 time.\n",
      "\"they\" is repeated 2 times.\n",
      "\"time,\" is repeated 1 time.\n",
      "\"to\" is repeated 5 times.\n",
      "\"together\" is repeated 1 time.\n",
      "\"until\" is repeated 1 time.\n",
      "\"use\" is repeated 1 time.\n",
      "\"used\" is repeated 2 times.\n",
      "\"usually\" is repeated 2 times.\n",
      "\"vegetables,\" is repeated 1 time.\n",
      "\"were\" is repeated 2 times.\n",
      "\"wild\" is repeated 1 time.\n",
      "\"wolves.\" is repeated 2 times.\n",
      "\"word\" is repeated 1 time.\n",
      "\"work.\" is repeated 1 time.\n",
      "\"year\" is repeated 1 time.\n"
     ]
    }
   ],
   "source": [
    "import collections\n",
    "sentence = text\n",
    "words = sentence.split()\n",
    "word_counts = collections.Counter(words)\n",
    "for word, count in sorted(word_counts.items()):\n",
    "    print('\"%s\" is repeated %d time%s.' % (word, count, \"s\" if count > 1 else \"\"))"
   ]
  },
  {
   "cell_type": "markdown",
   "metadata": {},
   "source": [
    "Yes, I do."
   ]
  },
  {
   "cell_type": "code",
   "execution_count": 10,
   "metadata": {},
   "outputs": [
    {
     "name": "stdout",
     "output_type": "stream",
     "text": [
      "<FreqDist with 120 samples and 229 outcomes>\n"
     ]
    }
   ],
   "source": [
    "from nltk.probability import FreqDist\n",
    "fdist = FreqDist(tokenized_word)\n",
    "print(fdist)"
   ]
  },
  {
   "cell_type": "code",
   "execution_count": 11,
   "metadata": {},
   "outputs": [
    {
     "data": {
      "text/plain": [
       "FreqDist({',': 18, '.': 13, 'are': 10, 'dogs': 10, 'as': 7, 'and': 6, 'to': 5, 'dog': 5, 'Dogs': 4, 'They': 4, ...})"
      ]
     },
     "execution_count": 11,
     "metadata": {},
     "output_type": "execute_result"
    }
   ],
   "source": [
    "fdist"
   ]
  },
  {
   "cell_type": "code",
   "execution_count": 12,
   "metadata": {},
   "outputs": [
    {
     "data": {
      "text/plain": [
       "[(',', 18),\n",
       " ('.', 13),\n",
       " ('are', 10),\n",
       " ('dogs', 10),\n",
       " ('as', 7),\n",
       " ('and', 6),\n",
       " ('to', 5),\n",
       " ('dog', 5),\n",
       " ('Dogs', 4),\n",
       " ('They', 4)]"
      ]
     },
     "execution_count": 12,
     "metadata": {},
     "output_type": "execute_result"
    }
   ],
   "source": [
    "fdist.most_common(10)"
   ]
  },
  {
   "cell_type": "code",
   "execution_count": 13,
   "metadata": {},
   "outputs": [],
   "source": [
    "my_stopwords = [\"is\", \"a\", \"this\", \",\"]"
   ]
  },
  {
   "cell_type": "code",
   "execution_count": 14,
   "metadata": {},
   "outputs": [
    {
     "name": "stdout",
     "output_type": "stream",
     "text": [
      "{'yours', 'do', 'we', 'while', 'were', 'ain', 'had', 'being', 'same', \"you'll\", 'those', \"shouldn't\", 'her', 'the', 'once', 'isn', 'off', 'this', \"needn't\", 'with', 'who', 'against', 'themselves', 'below', 'needn', 'as', 'from', 'hasn', 'there', 'a', 'before', 'not', \"mustn't\", 'these', 'again', 'too', 'at', 'our', 'which', 'haven', 'because', \"that'll\", 'them', 'how', 'an', 'until', 'so', 'ourselves', 'm', 'wasn', 'weren', 'it', \"it's\", \"weren't\", \"should've\", 'your', 'won', 'for', 'most', 'more', 'or', 'further', 'be', 'why', \"didn't\", 'their', 'during', 'ours', 'very', 'few', \"wouldn't\", 'should', 'will', 'above', 's', 'they', 'theirs', 'but', 've', 'own', \"you'd\", 'is', 'up', \"you're\", 'hers', \"wasn't\", 'you', 'some', 'i', 'what', 'just', 'under', 'into', 'down', 'll', 're', 'each', 'all', 't', 'd', \"haven't\", 'don', 'him', \"hadn't\", 'wouldn', \"hasn't\", 'did', \"aren't\", 'herself', 'to', 'over', 'by', 'than', 'couldn', 'then', \"don't\", 'after', 'here', \"shan't\", \"you've\", \"doesn't\", 'of', 'where', 'in', 'hadn', 'other', 'when', 'that', 'was', 'ma', 'she', \"couldn't\", 'between', 'out', 'about', 'myself', 'o', \"won't\", 'nor', 'y', 'does', 'both', 'doesn', 'doing', 'aren', 'mustn', 'shouldn', 'having', 'didn', 'whom', 'my', \"isn't\", 'itself', 'such', 'only', 'mightn', 'on', \"mightn't\", 'yourself', 'have', 'through', 'no', 'me', 'are', 'been', 'and', 'any', 'yourselves', 'shan', 'his', 'can', 'himself', 'has', 'its', 'am', 'if', 'he', \"she's\", 'now'}\n"
     ]
    }
   ],
   "source": [
    "from nltk.corpus import stopwords\n",
    "nltk_stop_words=set(stopwords.words(\"english\"))\n",
    "print(nltk_stop_words)"
   ]
  },
  {
   "cell_type": "code",
   "execution_count": 15,
   "metadata": {},
   "outputs": [
    {
     "name": "stdout",
     "output_type": "stream",
     "text": [
      "Tokenized Sentence: ['Dogs', ',', 'Canis', 'lupus', 'familiaris', ',', 'are', 'domesticated', 'mammals', ',', 'not', 'natural', 'wild', 'animals', '.', 'They', 'were', 'originally', 'bred', 'from', 'wolves', '.', 'They', 'have', 'been', 'bred', 'by', 'humans', 'for', 'a', 'long', 'time', ',', 'and', 'were', 'the', 'first', 'animals', 'ever', 'to', 'be', 'domesticated', '.', 'Today', ',', 'some', 'dogs', 'are', 'used', 'as', 'pets', ',', 'others', 'are', 'used', 'to', 'help', 'humans', 'do', 'their', 'work', '.', 'They', 'are', 'a', 'popular', 'pet', 'because', 'they', 'are', 'usually', 'playful', ',', 'friendly', ',', 'loyal', 'and', 'listen', 'to', 'humans', '.', 'Thirty', 'million', 'dogs', 'in', 'the', 'United', 'States', 'are', 'registered', 'as', 'pets', '.', 'Dogs', 'eat', 'both', 'meat', 'and', 'vegetables', ',', 'often', 'mixed', 'together', 'and', 'sold', 'in', 'stores', 'as', 'dog', 'food', '.', 'Dogs', 'often', 'have', 'jobs', ',', 'including', 'as', 'police', 'dogs', ',', 'army', 'dogs', ',', 'assistance', 'dogs', ',', 'fire', 'dogs', ',', 'messenger', 'dogs', ',', 'hunting', 'dogs', ',', 'herding', 'dogs', ',', 'or', 'rescue', 'dogs', '.', 'They', 'are', 'sometimes', 'called', '``', 'canines', \"''\", 'from', 'the', 'Latin', 'word', 'for', 'dog', '-', 'canis', '.', 'Sometimes', 'people', 'also', 'use', '``', 'dog', \"''\", 'to', 'describe', 'other', 'canids', ',', 'such', 'as', 'wolves', '.', 'A', 'baby', 'dog', 'is', 'called', 'a', 'pup', 'or', 'puppy', '.', 'A', 'dog', 'is', 'called', 'a', 'puppy', 'until', 'it', 'is', 'about', 'one', 'year', 'old', '.', 'Dogs', 'are', 'sometimes', 'referred', 'to', 'as', '``', 'man', '’', 's', 'best', 'friend', \"''\", 'because', 'they', 'are', 'kept', 'as', 'domestic', 'pets', 'and', 'are', 'usually', 'loyal', 'and', 'like', 'being', 'around', 'humans', '.']\n",
      "\n",
      "\n",
      "Filterd Sentence: ['Dogs', 'Canis', 'lupus', 'familiaris', 'are', 'domesticated', 'mammals', 'not', 'natural', 'wild', 'animals', '.', 'They', 'were', 'originally', 'bred', 'from', 'wolves', '.', 'They', 'have', 'been', 'bred', 'by', 'humans', 'for', 'long', 'time', 'and', 'were', 'the', 'first', 'animals', 'ever', 'to', 'be', 'domesticated', '.', 'Today', 'some', 'dogs', 'are', 'used', 'as', 'pets', 'others', 'are', 'used', 'to', 'help', 'humans', 'do', 'their', 'work', '.', 'They', 'are', 'popular', 'pet', 'because', 'they', 'are', 'usually', 'playful', 'friendly', 'loyal', 'and', 'listen', 'to', 'humans', '.', 'Thirty', 'million', 'dogs', 'in', 'the', 'United', 'States', 'are', 'registered', 'as', 'pets', '.', 'Dogs', 'eat', 'both', 'meat', 'and', 'vegetables', 'often', 'mixed', 'together', 'and', 'sold', 'in', 'stores', 'as', 'dog', 'food', '.', 'Dogs', 'often', 'have', 'jobs', 'including', 'as', 'police', 'dogs', 'army', 'dogs', 'assistance', 'dogs', 'fire', 'dogs', 'messenger', 'dogs', 'hunting', 'dogs', 'herding', 'dogs', 'or', 'rescue', 'dogs', '.', 'They', 'are', 'sometimes', 'called', '``', 'canines', \"''\", 'from', 'the', 'Latin', 'word', 'for', 'dog', '-', 'canis', '.', 'Sometimes', 'people', 'also', 'use', '``', 'dog', \"''\", 'to', 'describe', 'other', 'canids', 'such', 'as', 'wolves', '.', 'A', 'baby', 'dog', 'called', 'pup', 'or', 'puppy', '.', 'A', 'dog', 'called', 'puppy', 'until', 'it', 'about', 'one', 'year', 'old', '.', 'Dogs', 'are', 'sometimes', 'referred', 'to', 'as', '``', 'man', '’', 's', 'best', 'friend', \"''\", 'because', 'they', 'are', 'kept', 'as', 'domestic', 'pets', 'and', 'are', 'usually', 'loyal', 'and', 'like', 'being', 'around', 'humans', '.']\n"
     ]
    }
   ],
   "source": [
    "filtered_words=[]\n",
    "for w in tokenized_word:\n",
    "    if w not in my_stopwords:\n",
    "        filtered_words.append(w)\n",
    "print(\"Tokenized Sentence:\",tokenized_word)\n",
    "print(\"\\n\")\n",
    "print(\"Filterd Sentence:\",filtered_words)"
   ]
  },
  {
   "cell_type": "code",
   "execution_count": 16,
   "metadata": {},
   "outputs": [
    {
     "data": {
      "text/plain": [
       "'connect'"
      ]
     },
     "execution_count": 16,
     "metadata": {},
     "output_type": "execute_result"
    }
   ],
   "source": [
    "from nltk.stem import PorterStemmer\n",
    "stem = PorterStemmer()\n",
    "word = \"connection\"\n",
    "stem.stem(word)"
   ]
  },
  {
   "cell_type": "code",
   "execution_count": 17,
   "metadata": {},
   "outputs": [
    {
     "name": "stdout",
     "output_type": "stream",
     "text": [
      "Filtered Words: ['Dogs', 'Canis', 'lupus', 'familiaris', 'are', 'domesticated', 'mammals', 'not', 'natural', 'wild', 'animals', '.', 'They', 'were', 'originally', 'bred', 'from', 'wolves', '.', 'They', 'have', 'been', 'bred', 'by', 'humans', 'for', 'long', 'time', 'and', 'were', 'the', 'first', 'animals', 'ever', 'to', 'be', 'domesticated', '.', 'Today', 'some', 'dogs', 'are', 'used', 'as', 'pets', 'others', 'are', 'used', 'to', 'help', 'humans', 'do', 'their', 'work', '.', 'They', 'are', 'popular', 'pet', 'because', 'they', 'are', 'usually', 'playful', 'friendly', 'loyal', 'and', 'listen', 'to', 'humans', '.', 'Thirty', 'million', 'dogs', 'in', 'the', 'United', 'States', 'are', 'registered', 'as', 'pets', '.', 'Dogs', 'eat', 'both', 'meat', 'and', 'vegetables', 'often', 'mixed', 'together', 'and', 'sold', 'in', 'stores', 'as', 'dog', 'food', '.', 'Dogs', 'often', 'have', 'jobs', 'including', 'as', 'police', 'dogs', 'army', 'dogs', 'assistance', 'dogs', 'fire', 'dogs', 'messenger', 'dogs', 'hunting', 'dogs', 'herding', 'dogs', 'or', 'rescue', 'dogs', '.', 'They', 'are', 'sometimes', 'called', '``', 'canines', \"''\", 'from', 'the', 'Latin', 'word', 'for', 'dog', '-', 'canis', '.', 'Sometimes', 'people', 'also', 'use', '``', 'dog', \"''\", 'to', 'describe', 'other', 'canids', 'such', 'as', 'wolves', '.', 'A', 'baby', 'dog', 'called', 'pup', 'or', 'puppy', '.', 'A', 'dog', 'called', 'puppy', 'until', 'it', 'about', 'one', 'year', 'old', '.', 'Dogs', 'are', 'sometimes', 'referred', 'to', 'as', '``', 'man', '’', 's', 'best', 'friend', \"''\", 'because', 'they', 'are', 'kept', 'as', 'domestic', 'pets', 'and', 'are', 'usually', 'loyal', 'and', 'like', 'being', 'around', 'humans', '.']\n",
      "\n",
      "\n",
      "Stemmed Words: ['dog', 'cani', 'lupu', 'familiari', 'are', 'domest', 'mammal', 'not', 'natur', 'wild', 'anim', '.', 'they', 'were', 'origin', 'bred', 'from', 'wolv', '.', 'they', 'have', 'been', 'bred', 'by', 'human', 'for', 'long', 'time', 'and', 'were', 'the', 'first', 'anim', 'ever', 'to', 'be', 'domest', '.', 'today', 'some', 'dog', 'are', 'use', 'as', 'pet', 'other', 'are', 'use', 'to', 'help', 'human', 'do', 'their', 'work', '.', 'they', 'are', 'popular', 'pet', 'becaus', 'they', 'are', 'usual', 'play', 'friendli', 'loyal', 'and', 'listen', 'to', 'human', '.', 'thirti', 'million', 'dog', 'in', 'the', 'unit', 'state', 'are', 'regist', 'as', 'pet', '.', 'dog', 'eat', 'both', 'meat', 'and', 'veget', 'often', 'mix', 'togeth', 'and', 'sold', 'in', 'store', 'as', 'dog', 'food', '.', 'dog', 'often', 'have', 'job', 'includ', 'as', 'polic', 'dog', 'armi', 'dog', 'assist', 'dog', 'fire', 'dog', 'messeng', 'dog', 'hunt', 'dog', 'herd', 'dog', 'or', 'rescu', 'dog', '.', 'they', 'are', 'sometim', 'call', '``', 'canin', \"''\", 'from', 'the', 'latin', 'word', 'for', 'dog', '-', 'cani', '.', 'sometim', 'peopl', 'also', 'use', '``', 'dog', \"''\", 'to', 'describ', 'other', 'canid', 'such', 'as', 'wolv', '.', 'A', 'babi', 'dog', 'call', 'pup', 'or', 'puppi', '.', 'A', 'dog', 'call', 'puppi', 'until', 'it', 'about', 'one', 'year', 'old', '.', 'dog', 'are', 'sometim', 'refer', 'to', 'as', '``', 'man', '’', 's', 'best', 'friend', \"''\", 'becaus', 'they', 'are', 'kept', 'as', 'domest', 'pet', 'and', 'are', 'usual', 'loyal', 'and', 'like', 'be', 'around', 'human', '.']\n"
     ]
    }
   ],
   "source": [
    "from nltk.stem import PorterStemmer\n",
    "stem = PorterStemmer()\n",
    "stemmed_words=[]\n",
    "for w in filtered_words:\n",
    "    stemmed_words.append(stem.stem(w))\n",
    "print(\"Filtered Words:\",filtered_words)\n",
    "print(\"\\n\")\n",
    "print(\"Stemmed Words:\",stemmed_words)"
   ]
  },
  {
   "cell_type": "code",
   "execution_count": 18,
   "metadata": {},
   "outputs": [
    {
     "data": {
      "text/plain": [
       "'connect'"
      ]
     },
     "execution_count": 18,
     "metadata": {},
     "output_type": "execute_result"
    }
   ],
   "source": [
    "from nltk.stem.wordnet import WordNetLemmatizer\n",
    "lem = WordNetLemmatizer()\n",
    "word = \"connecting\"\n",
    "lem.lemmatize(word, pos=\"v\")"
   ]
  },
  {
   "cell_type": "code",
   "execution_count": 19,
   "metadata": {},
   "outputs": [
    {
     "name": "stdout",
     "output_type": "stream",
     "text": [
      "fly\n",
      "flying\n"
     ]
    }
   ],
   "source": [
    "from nltk.stem.wordnet import WordNetLemmatizer\n",
    "lem = WordNetLemmatizer()\n",
    "word = \"flying\"\n",
    "print(lem.lemmatize(word, pos=\"v\"))\n",
    "print(lem.lemmatize(word, pos=\"n\"))"
   ]
  },
  {
   "cell_type": "code",
   "execution_count": 20,
   "metadata": {},
   "outputs": [
    {
     "name": "stdout",
     "output_type": "stream",
     "text": [
      "['I', 'am', 'studying', 'at', 'ICT']\n"
     ]
    },
    {
     "data": {
      "text/plain": [
       "[('I', 'PRP'),\n",
       " ('am', 'VBP'),\n",
       " ('studying', 'VBG'),\n",
       " ('at', 'IN'),\n",
       " ('ICT', 'NNP')]"
      ]
     },
     "execution_count": 20,
     "metadata": {},
     "output_type": "execute_result"
    }
   ],
   "source": [
    "sent = \"I am studying at ICT\"\n",
    "tokens=nltk.word_tokenize(sent)\n",
    "print(tokens)\n",
    "nltk.pos_tag(tokens)"
   ]
  },
  {
   "cell_type": "markdown",
   "metadata": {},
   "source": [
    "PRP personal pronoun\\\n",
    "VBP verb, sing. present, non-3d take\\\n",
    "VBG verb, gerund/present participle taking\\\n",
    "IN preposition/subordinating conjunction\\\n",
    "NNP proper noun, singular ‘Harrison’"
   ]
  },
  {
   "cell_type": "code",
   "execution_count": null,
   "metadata": {},
   "outputs": [],
   "source": []
  }
 ],
 "metadata": {
  "kernelspec": {
   "display_name": "Python 3",
   "language": "python",
   "name": "python3"
  },
  "language_info": {
   "codemirror_mode": {
    "name": "ipython",
    "version": 3
   },
   "file_extension": ".py",
   "mimetype": "text/x-python",
   "name": "python",
   "nbconvert_exporter": "python",
   "pygments_lexer": "ipython3",
   "version": "3.8.3"
  }
 },
 "nbformat": 4,
 "nbformat_minor": 4
}
